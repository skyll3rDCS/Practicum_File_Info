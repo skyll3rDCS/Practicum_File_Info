{
  "nbformat": 4,
  "nbformat_minor": 0,
  "metadata": {
    "colab": {
      "provenance": []
    },
    "kernelspec": {
      "name": "python3",
      "display_name": "Python 3"
    },
    "language_info": {
      "name": "python"
    }
  },
  "cells": [
    {
      "cell_type": "code",
      "execution_count": null,
      "metadata": {
        "id": "tw_tQ6QqYJTQ"
      },
      "outputs": [],
      "source": [
        "import re\n",
        "import seaborn as sns\n",
        "import numpy as np\n",
        "p = re.compile(r'[^\\w\\s]')\n",
        "with open('Уэллс_-_Война_миров.txt', encoding='windows-1251') as f:\n",
        "    t = f.read().replace('\\xa0',' ').replace('\\n',' ').lower()\n",
        "    for i in p.findall(t):\n",
        "        t = t.replace(i, '')\n",
        "    t = ' '.join(t.split())"
      ]
    },
    {
      "cell_type": "code",
      "source": [
        "unique, counts = (np.unique(t.split(), return_counts=True))\n",
        "d = list(zip(unique, counts))\n",
        "d_s = sorted(d, key=lambda x: x[1], reverse=True)[:20]\n",
        "d_s"
      ],
      "metadata": {
        "colab": {
          "base_uri": "https://localhost:8080/"
        },
        "id": "bhH4iJEsYZSE",
        "outputId": "d899a993-cb64-4736-81bc-236cb853507d"
      },
      "execution_count": null,
      "outputs": [
        {
          "output_type": "execute_result",
          "data": {
            "text/plain": [
              "[('и', 1744),\n",
              " ('в', 1200),\n",
              " ('я', 1010),\n",
              " ('на', 893),\n",
              " ('не', 628),\n",
              " ('что', 563),\n",
              " ('с', 418),\n",
              " ('к', 363),\n",
              " ('он', 361),\n",
              " ('по', 297),\n",
              " ('как', 281),\n",
              " ('из', 269),\n",
              " ('они', 252),\n",
              " ('все', 244),\n",
              " ('за', 220),\n",
              " ('мы', 219),\n",
              " ('от', 216),\n",
              " ('но', 212),\n",
              " ('это', 208),\n",
              " ('было', 181)]"
            ]
          },
          "metadata": {},
          "execution_count": 2
        }
      ]
    },
    {
      "cell_type": "code",
      "source": [
        "sns.barplot(x=[i[0]for i in d_s], y=[i[1] for i in d_s]);"
      ],
      "metadata": {
        "colab": {
          "base_uri": "https://localhost:8080/",
          "height": 430
        },
        "id": "8YCxXQ2HYhcQ",
        "outputId": "7eb3a120-9b18-4cc5-961a-ed4cbb581a33"
      },
      "execution_count": null,
      "outputs": [
        {
          "output_type": "display_data",
          "data": {
            "text/plain": [
              "<Figure size 640x480 with 1 Axes>"
            ],
            "image/png": "[encoded data removed]"
          },
          "metadata": {}
        }
      ]
    },
    {
      "cell_type": "code",
      "source": [
        "f = open('Уэллс_-_Война_миров.txt', 'r', encoding='windows-1251')\n",
        "lines = f.readlines()\n",
        "len(lines)"
      ],
      "metadata": {
        "colab": {
          "base_uri": "https://localhost:8080/"
        },
        "id": "JRD9SgLjYhy3",
        "outputId": "2fa017ff-6ff6-4166-8ec0-d89718721f01"
      },
      "execution_count": null,
      "outputs": [
        {
          "output_type": "execute_result",
          "data": {
            "text/plain": [
              "2128"
            ]
          },
          "metadata": {},
          "execution_count": 6
        }
      ]
    },
    {
      "cell_type": "code",
      "source": [
        "filename = 'Уэллс_-_Война_миров.txt'\n",
        "with open(filename,'r', encoding='windows-1251') as f:\n",
        "    text = f.read()\n",
        "text = text.replace('\\n','')\n",
        "text = text.replace('\\xa0','')\n",
        "\n",
        "len(text)"
      ],
      "metadata": {
        "colab": {
          "base_uri": "https://localhost:8080/"
        },
        "id": "jSG2qHh_YlaQ",
        "outputId": "f4d8a3d5-ebd3-4656-da93-7a1d39c0eff8"
      },
      "execution_count": null,
      "outputs": [
        {
          "output_type": "execute_result",
          "data": {
            "text/plain": [
              "295581"
            ]
          },
          "metadata": {},
          "execution_count": 7
        }
      ]
    },
    {
      "cell_type": "code",
      "source": [
        "text = text.replace(' ','')\n",
        "len(text)"
      ],
      "metadata": {
        "id": "tAP7KOUtYvvB",
        "outputId": "51b1327d-3480-4808-e606-59bcb2aaeefb",
        "colab": {
          "base_uri": "https://localhost:8080/"
        }
      },
      "execution_count": null,
      "outputs": [
        {
          "output_type": "execute_result",
          "data": {
            "text/plain": [
              "251863"
            ]
          },
          "metadata": {},
          "execution_count": 8
        }
      ]
    },
    {
      "cell_type": "code",
      "source": [
        "from collections import *\n",
        "Counter(t)"
      ],
      "metadata": {
        "id": "sttGoPCUYwBX",
        "outputId": "e0c4b4da-5bab-4ea4-c81e-ac1eef8b5958",
        "colab": {
          "base_uri": "https://localhost:8080/"
        }
      },
      "execution_count": null,
      "outputs": [
        {
          "output_type": "execute_result",
          "data": {
            "text/plain": [
              "Counter({'г': 4226,\n",
              "         'е': 19420,\n",
              "         'р': 11139,\n",
              "         'б': 4171,\n",
              "         'т': 13147,\n",
              "         ' ': 44523,\n",
              "         'у': 6954,\n",
              "         'э': 843,\n",
              "         'л': 13188,\n",
              "         'с': 13061,\n",
              "         'в': 10274,\n",
              "         'о': 26499,\n",
              "         'й': 2650,\n",
              "         'н': 15902,\n",
              "         'а': 18638,\n",
              "         'м': 8051,\n",
              "         'и': 17463,\n",
              "         'ф': 281,\n",
              "         'к': 7584,\n",
              "         'ы': 5146,\n",
              "         'п': 6980,\n",
              "         'д': 7522,\n",
              "         'ь': 4180,\n",
              "         'ж': 2511,\n",
              "         'х': 2351,\n",
              "         'з': 4314,\n",
              "         'ч': 3496,\n",
              "         'я': 5609,\n",
              "         '1': 28,\n",
              "         'ц': 790,\n",
              "         'щ': 985,\n",
              "         'ю': 1300,\n",
              "         'ш': 2302,\n",
              "         '4': 9,\n",
              "         '0': 7,\n",
              "         '3': 7,\n",
              "         '5': 8,\n",
              "         '8': 7,\n",
              "         '9': 6,\n",
              "         '2': 9,\n",
              "         'ъ': 45,\n",
              "         '6': 5,\n",
              "         '7': 6,\n",
              "         'ё': 2,\n",
              "         's': 2,\n",
              "         'e': 5,\n",
              "         'm': 1,\n",
              "         'o': 4,\n",
              "         'r': 2,\n",
              "         'b': 1,\n",
              "         'k': 2,\n",
              "         'i': 2,\n",
              "         'n': 2,\n",
              "         'h': 1,\n",
              "         't': 2,\n",
              "         'p': 1,\n",
              "         'w': 3,\n",
              "         'a': 1,\n",
              "         'd': 1,\n",
              "         'g': 1,\n",
              "         'c': 1,\n",
              "         'u': 1})"
            ]
          },
          "metadata": {},
          "execution_count": 9
        }
      ]
    },
    {
      "cell_type": "code",
      "source": [],
      "metadata": {
        "id": "UNbPhFeZYxO_"
      },
      "execution_count": null,
      "outputs": []
    }
  ]
}